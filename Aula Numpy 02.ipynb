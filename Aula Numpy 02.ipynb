{
 "cells": [
  {
   "cell_type": "code",
   "execution_count": 1,
   "metadata": {},
   "outputs": [
    {
     "name": "stdout",
     "output_type": "stream",
     "text": [
      "[[ 1.73  1.68  1.71  1.89  1.79]\n",
      " [65.4  59.2  63.6  88.4  68.7 ]]\n"
     ]
    }
   ],
   "source": [
    "import numpy as np\n",
    "np_2d = np.array([[1.73, 1.68, 1.71, 1.89, 1.79],\n",
    "                [65.4, 59.2, 63.6, 88.4, 68.7]])\n",
    "print(np_2d)"
   ]
  },
  {
   "cell_type": "code",
   "execution_count": 2,
   "metadata": {},
   "outputs": [
    {
     "data": {
      "text/plain": [
       "(2, 5)"
      ]
     },
     "execution_count": 2,
     "metadata": {},
     "output_type": "execute_result"
    }
   ],
   "source": [
    "np_2d.shape"
   ]
  },
  {
   "cell_type": "code",
   "execution_count": 3,
   "metadata": {},
   "outputs": [
    {
     "data": {
      "text/plain": [
       "array([['1.73', '1.68', '1.71', '1.89', '1.79'],\n",
       "       ['65.4', '59.2', '63.6', '88.4', '68.7']], dtype='<U32')"
      ]
     },
     "execution_count": 3,
     "metadata": {},
     "output_type": "execute_result"
    }
   ],
   "source": [
    "np.array([[1.73, 1.68, 1.71, 1.89, 1.79],\n",
    "        [65.4, 59.2, 63.6, 88.4, '68.7']])"
   ]
  },
  {
   "cell_type": "code",
   "execution_count": 4,
   "metadata": {},
   "outputs": [
    {
     "name": "stdout",
     "output_type": "stream",
     "text": [
      "(3, 5)\n"
     ]
    }
   ],
   "source": [
    "numeros = np.array([[1, 2, 3, 4, 5],\n",
    "                   [6, 7, 8, 9, 10],\n",
    "                   [11, 12, 13, 14, 15]])\n",
    "print(numeros.shape)"
   ]
  },
  {
   "cell_type": "code",
   "execution_count": 5,
   "metadata": {},
   "outputs": [
    {
     "name": "stdout",
     "output_type": "stream",
     "text": [
      "(3, 3)\n"
     ]
    }
   ],
   "source": [
    "numeros2 = np.array ([[1, 2, 3],\n",
    "                      [4, 5, 6],\n",
    "                      [7, 8, 9]])\n",
    "print(numeros2.shape)"
   ]
  },
  {
   "cell_type": "code",
   "execution_count": 6,
   "metadata": {},
   "outputs": [
    {
     "name": "stdout",
     "output_type": "stream",
     "text": [
      "1.71\n",
      "[[ 1.68  1.71]\n",
      " [59.2  63.6 ]]\n",
      "[65.4 59.2 63.6 88.4 68.7]\n"
     ]
    }
   ],
   "source": [
    "print(np_2d[0, 2])\n",
    "print(np_2d[:, 1:3])\n",
    "print(np_2d[1, :])"
   ]
  },
  {
   "cell_type": "code",
   "execution_count": 7,
   "metadata": {},
   "outputs": [
    {
     "name": "stdout",
     "output_type": "stream",
     "text": [
      "<class 'numpy.ndarray'>\n",
      "(8,)\n"
     ]
    }
   ],
   "source": [
    "#create list baseball\n",
    "baseball = [180, 215, 210, 210, 188, 176, 209, 200]\n",
    "import numpy as np\n",
    "np_baseball = np.array(baseball)\n",
    "print(type(np_baseball))\n",
    "print(np_baseball.shape)"
   ]
  },
  {
   "cell_type": "code",
   "execution_count": 8,
   "metadata": {},
   "outputs": [
    {
     "name": "stdout",
     "output_type": "stream",
     "text": [
      "range(150, 210)\n",
      "range(50, 150)\n",
      "[189, 173, 206, 185, 158, 164, 205, 163, 197, 202, 175, 150, 182, 200, 170, 207, 193, 157, 192, 166]\n",
      "[65, 79, 78, 116, 131, 53, 138, 50, 68, 62, 113, 110, 61, 52, 142, 146, 124, 125, 73, 85]\n",
      "[1.89 1.73 2.06 1.85 1.58 1.64 2.05 1.63 1.97 2.02 1.75 1.5  1.82 2.\n",
      " 1.7  2.07 1.93 1.57 1.92 1.66]\n",
      "[ 65  79  78 116 131  53 138  50  68  62 113 110  61  52 142 146 124 125\n",
      "  73  85]\n",
      "[18.19657904 26.3958034  18.38062023 33.89335281 52.47556481 19.70553242\n",
      " 32.83759667 18.81892431 17.52170888 15.19458877 36.89795918 48.88888889\n",
      " 18.41565028 13.         49.1349481  34.07314056 33.28948428 50.71199643\n",
      " 19.80251736 30.84627667]\n",
      "[ True False  True False False  True False  True  True  True False False\n",
      "  True  True False False False False  True False]\n",
      "[18.19657904 18.38062023 19.70553242 18.81892431 17.52170888 15.19458877\n",
      " 18.41565028 13.         19.80251736]\n",
      "[ 68  62 113 110  61  52 142 146]\n",
      "[1.5  1.82 2.   1.7  2.07 1.93 1.57 1.92 1.66]\n"
     ]
    }
   ],
   "source": [
    "import random as rd\n",
    "import numpy as np\n",
    "# geração de números entre 150 e 209\n",
    "height = range(150 , 210)\n",
    "print(height)\n",
    "#geração de números entre 50 e 149\n",
    "weight = range(50, 150)\n",
    "print(weight)\n",
    "#amostra randomica de 20 números de height\n",
    "height = rd.sample(height,20)\n",
    "print(height)\n",
    "#amostra randomica de 20 numeros de weight\n",
    "weight = rd.sample(weight,20)\n",
    "print(weight)\n",
    "#converter height em array e normalizar multiplicador por 0.01\n",
    "height_array = np.array(height) * 0.01\n",
    "print(height_array)\n",
    "#converter weight em array\n",
    "weight_array = np.array(weight)\n",
    "print(weight_array)\n",
    "#calculo do bmi\n",
    "bmi = weight_array/ height_array ** 2\n",
    "print(bmi)\n",
    "#verificação onde bmi é menor que 21\n",
    "light = bmi<21\n",
    "print(light)\n",
    "print(bmi[bmi < 21])\n",
    "print(weight_array[8:16])\n",
    "print(height_array[11:20])\n",
    "\n"
   ]
  },
  {
   "cell_type": "code",
   "execution_count": 9,
   "metadata": {},
   "outputs": [
    {
     "name": "stdout",
     "output_type": "stream",
     "text": [
      "[210.   98.5]\n",
      "[ 78.4 102.   98.5  75.2]\n",
      "215.0\n",
      "198.25\n",
      "158.5\n"
     ]
    }
   ],
   "source": [
    "#\n",
    "baseball = [[180, 78.4],\n",
    "            [215, 102],\n",
    "            [210, 98.5],\n",
    "            [188, 75.2]]\n",
    "#\n",
    "import numpy as np\n",
    "#\n",
    "np_baseball = np.array(baseball)\n",
    "#\n",
    "print(np_baseball[2])\n",
    "np_weight_lb = np_baseball[:, 1]\n",
    "print(np_weight_lb)\n",
    "print(np_baseball[1, 0])\n",
    "#\n",
    "media = np.mean(np_baseball[:, 0])\n",
    "print(media)\n",
    "mediana = np.median(np_baseball[1, :])\n",
    "print(mediana)"
   ]
  }
 ],
 "metadata": {
  "kernelspec": {
   "display_name": "Python 3",
   "language": "python",
   "name": "python3"
  },
  "language_info": {
   "codemirror_mode": {
    "name": "ipython",
    "version": 3
   },
   "file_extension": ".py",
   "mimetype": "text/x-python",
   "name": "python",
   "nbconvert_exporter": "python",
   "pygments_lexer": "ipython3",
   "version": "3.11.3"
  },
  "orig_nbformat": 4,
  "vscode": {
   "interpreter": {
    "hash": "e1815650979ad1b3ebc844b62d56d913cee0648f68a9c35fa00bad983cf75c1a"
   }
  }
 },
 "nbformat": 4,
 "nbformat_minor": 2
}
