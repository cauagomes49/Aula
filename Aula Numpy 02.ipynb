{
 "cells": [
  {
   "cell_type": "code",
   "execution_count": 1,
   "metadata": {},
   "outputs": [
    {
     "name": "stdout",
     "output_type": "stream",
     "text": [
      "[[ 1.73  1.68  1.71  1.89  1.79]\n",
      " [65.4  59.2  63.6  88.4  68.7 ]]\n"
     ]
    }
   ],
   "source": [
    "import numpy as np\n",
    "np_2d = np.array([[1.73, 1.68, 1.71, 1.89, 1.79],\n",
    "                [65.4, 59.2, 63.6, 88.4, 68.7]])\n",
    "print(np_2d)"
   ]
  },
  {
   "cell_type": "code",
   "execution_count": 2,
   "metadata": {},
   "outputs": [
    {
     "data": {
      "text/plain": [
       "(2, 5)"
      ]
     },
     "execution_count": 2,
     "metadata": {},
     "output_type": "execute_result"
    }
   ],
   "source": [
    "np_2d.shape"
   ]
  },
  {
   "cell_type": "code",
   "execution_count": 3,
   "metadata": {},
   "outputs": [
    {
     "data": {
      "text/plain": [
       "array([['1.73', '1.68', '1.71', '1.89', '1.79'],\n",
       "       ['65.4', '59.2', '63.6', '88.4', '68.7']], dtype='<U32')"
      ]
     },
     "execution_count": 3,
     "metadata": {},
     "output_type": "execute_result"
    }
   ],
   "source": [
    "np.array([[1.73, 1.68, 1.71, 1.89, 1.79],\n",
    "        [65.4, 59.2, 63.6, 88.4, '68.7']])"
   ]
  },
  {
   "cell_type": "code",
   "execution_count": 4,
   "metadata": {},
   "outputs": [
    {
     "name": "stdout",
     "output_type": "stream",
     "text": [
      "(3, 5)\n"
     ]
    }
   ],
   "source": [
    "numeros = np.array([[1, 2, 3, 4, 5],\n",
    "                   [6, 7, 8, 9, 10],\n",
    "                   [11, 12, 13, 14, 15]])\n",
    "print(numeros.shape)"
   ]
  },
  {
   "cell_type": "code",
   "execution_count": 5,
   "metadata": {},
   "outputs": [
    {
     "name": "stdout",
     "output_type": "stream",
     "text": [
      "(3, 3)\n"
     ]
    }
   ],
   "source": [
    "numeros2 = np.array ([[1, 2, 3],\n",
    "                      [4, 5, 6],\n",
    "                      [7, 8, 9]])\n",
    "print(numeros2.shape)"
   ]
  },
  {
   "cell_type": "code",
   "execution_count": 6,
   "metadata": {},
   "outputs": [
    {
     "name": "stdout",
     "output_type": "stream",
     "text": [
      "1.71\n",
      "[[ 1.68  1.71]\n",
      " [59.2  63.6 ]]\n",
      "[65.4 59.2 63.6 88.4 68.7]\n"
     ]
    }
   ],
   "source": [
    "print(np_2d[0, 2])\n",
    "print(np_2d[:, 1:3])\n",
    "print(np_2d[1, :])"
   ]
  },
  {
   "cell_type": "code",
   "execution_count": 7,
   "metadata": {},
   "outputs": [
    {
     "name": "stdout",
     "output_type": "stream",
     "text": [
      "<class 'numpy.ndarray'>\n",
      "(8,)\n"
     ]
    }
   ],
   "source": [
    "#create list baseball\n",
    "baseball = [180, 215, 210, 210, 188, 176, 209, 200]\n",
    "import numpy as np\n",
    "np_baseball = np.array(baseball)\n",
    "print(type(np_baseball))\n",
    "print(np_baseball.shape)"
   ]
  },
  {
   "cell_type": "code",
   "execution_count": 8,
   "metadata": {},
   "outputs": [
    {
     "name": "stdout",
     "output_type": "stream",
     "text": [
      "range(150, 210)\n",
      "range(50, 150)\n",
      "[204, 171, 192, 164, 206, 160, 166, 172, 209, 178, 168, 184, 161, 174, 180, 190, 183, 182, 162, 177]\n",
      "[142, 68, 141, 145, 86, 136, 91, 74, 140, 75, 105, 147, 83, 131, 53, 82, 72, 87, 66, 126]\n",
      "[2.04 1.71 1.92 1.64 2.06 1.6  1.66 1.72 2.09 1.78 1.68 1.84 1.61 1.74\n",
      " 1.8  1.9  1.83 1.82 1.62 1.77]\n",
      "[142  68 141 145  86 136  91  74 140  75 105 147  83 131  53  82  72  87\n",
      "  66 126]\n",
      "[34.12149173 23.25501864 38.24869792 53.91136228 20.26581205 53.125\n",
      " 33.02366091 25.01352082 32.05054829 23.67125363 37.20238095 43.41918715\n",
      " 32.02036958 43.26859559 16.35802469 22.71468144 21.49959688 26.26494385\n",
      " 25.1486054  40.21832807]\n",
      "[False False False False  True False False False False False False False\n",
      " False False  True False False False False False]\n",
      "[20.26581205 16.35802469]\n",
      "[140  75 105 147  83 131  53  82]\n",
      "[1.84 1.61 1.74 1.8  1.9  1.83 1.82 1.62 1.77]\n"
     ]
    }
   ],
   "source": [
    "import random as rd\n",
    "import numpy as np\n",
    "# geração de números entre 150 e 209\n",
    "height = range(150 , 210)\n",
    "print(height)\n",
    "#geração de números entre 50 e 149\n",
    "weight = range(50, 150)\n",
    "print(weight)\n",
    "#amostra randomica de 20 números de height\n",
    "height = rd.sample(height,20)\n",
    "print(height)\n",
    "#amostra randomica de 20 numeros de weight\n",
    "weight = rd.sample(weight,20)\n",
    "print(weight)\n",
    "#converter height em array e normalizar multiplicador por 0.01\n",
    "height_array = np.array(height) * 0.01\n",
    "print(height_array)\n",
    "#converter weight em array\n",
    "weight_array = np.array(weight)\n",
    "print(weight_array)\n",
    "#calculo do bmi\n",
    "bmi = weight_array/ height_array ** 2\n",
    "print(bmi)\n",
    "#verificação onde bmi é menor que 21\n",
    "light = bmi<21\n",
    "print(light)\n",
    "print(bmi[bmi < 21])\n",
    "print(weight_array[8:16])\n",
    "print(height_array[11:20])\n",
    "\n"
   ]
  },
  {
   "cell_type": "code",
   "execution_count": 9,
   "metadata": {},
   "outputs": [
    {
     "name": "stdout",
     "output_type": "stream",
     "text": [
      "[210.   98.5]\n",
      "[ 78.4 102.   98.5  75.2]\n",
      "215.0\n",
      "198.25\n",
      "158.5\n"
     ]
    }
   ],
   "source": [
    "#\n",
    "baseball = [[180, 78.4],\n",
    "            [215, 102],\n",
    "            [210, 98.5],\n",
    "            [188, 75.2]]\n",
    "#\n",
    "import numpy as np\n",
    "#\n",
    "np_baseball = np.array(baseball)\n",
    "#\n",
    "print(np_baseball[2])\n",
    "np_weight_lb = np_baseball[:, 1]\n",
    "print(np_weight_lb)\n",
    "print(np_baseball[1, 0])\n",
    "#\n",
    "media = np.mean(np_baseball[:, 0])\n",
    "print(media)\n",
    "mediana = np.median(np_baseball[1, :])\n",
    "print(mediana)"
   ]
  }
 ],
 "metadata": {
  "kernelspec": {
   "display_name": "Python 3",
   "language": "python",
   "name": "python3"
  },
  "language_info": {
   "codemirror_mode": {
    "name": "ipython",
    "version": 3
   },
   "file_extension": ".py",
   "mimetype": "text/x-python",
   "name": "python",
   "nbconvert_exporter": "python",
   "pygments_lexer": "ipython3",
   "version": "3.11.0"
  },
  "orig_nbformat": 4,
  "vscode": {
   "interpreter": {
    "hash": "e1815650979ad1b3ebc844b62d56d913cee0648f68a9c35fa00bad983cf75c1a"
   }
  }
 },
 "nbformat": 4,
 "nbformat_minor": 2
}
