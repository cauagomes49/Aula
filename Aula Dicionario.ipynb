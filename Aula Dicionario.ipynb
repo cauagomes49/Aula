{
 "cells": [
  {
   "cell_type": "code",
   "execution_count": 1,
   "metadata": {},
   "outputs": [
    {
     "data": {
      "text/plain": [
       "2.97"
      ]
     },
     "execution_count": 1,
     "metadata": {},
     "output_type": "execute_result"
    }
   ],
   "source": [
    "pop = [30.55, 2.77, 39.21]\n",
    "countries = ['afeghanistan', 'albania', 'algeria']\n",
    "\n",
    "world= {'afeghanistan':30.55, 'albania': 2.77, 'algeria': 39.21, 'albania': 2.97}\n",
    "world['albania']"
   ]
  },
  {
   "cell_type": "code",
   "execution_count": 2,
   "metadata": {},
   "outputs": [
    {
     "name": "stdout",
     "output_type": "stream",
     "text": [
      "{'spain': 'madrid', 'france': 'paris', 'germany': 'berlin', 'noraway': 'oslo'}\n",
      "dict_keys(['spain', 'france', 'germany', 'noraway'])\n",
      "oslo\n"
     ]
    }
   ],
   "source": [
    "# Definition of countries and capital\n",
    "countries = ['spain', 'france', 'germany', 'noraway']\n",
    "capital = ['madrid', 'paris', 'berlin', 'oslo']\n",
    "# From string in countries and capitals, create dictionary europe\n",
    "europe = {'spain': 'madrid', 'france': 'paris', 'germany': 'berlin', 'noraway':'oslo'}\n",
    "# Print europe\n",
    "print(europe)\n",
    "\n",
    "print(europe.keys())\n",
    "print(europe['noraway'])"
   ]
  },
  {
   "cell_type": "code",
   "execution_count": 3,
   "metadata": {},
   "outputs": [
    {
     "name": "stdout",
     "output_type": "stream",
     "text": [
      "{'afeghanistan': 30.55, 'albania': 2.97, 'algeria': 39.21, 'seeland': 2.7e-06}\n",
      "True\n",
      "False\n",
      "False\n",
      "{'afeghanistan': 30.55, 'albania': 2.97, 'algeria': 39.21}\n"
     ]
    }
   ],
   "source": [
    "world['seeland'] = 0.0000027\n",
    "print(world)\n",
    "print('seeland' in world)\n",
    "print('brazil' in world)\n",
    "print (30.55 in world)\n",
    "del(world['seeland'])\n",
    "print(world)"
   ]
  },
  {
   "cell_type": "code",
   "execution_count": 4,
   "metadata": {},
   "outputs": [
    {
     "name": "stdout",
     "output_type": "stream",
     "text": [
      "True\n",
      "rome\n",
      "True\n",
      "warsaw\n",
      "dict_keys(['spain', 'france', 'germany', 'noraway', 'italy', 'poland'])\n"
     ]
    }
   ],
   "source": [
    "europe = {'spain': 'madrid', 'france': 'paris', 'germany': 'berlin', 'noraway':'oslo', 'italy': 'rome'}\n",
    "print('italy' in europe)\n",
    "print(europe['italy'])\n",
    "europe = {'spain': 'madrid', 'france': 'paris', 'germany': 'berlin', 'noraway':'oslo', 'italy': 'rome', 'poland':'warsaw'}\n",
    "print('poland' in europe)\n",
    "print(europe['poland'])\n",
    "print(europe.keys())"
   ]
  },
  {
   "cell_type": "code",
   "execution_count": 5,
   "metadata": {},
   "outputs": [
    {
     "name": "stdout",
     "output_type": "stream",
     "text": [
      "{'spain': 'madrid', 'france': 'paris', 'germany': 'berlim', 'noraway': 'oslo', 'italy': 'rome', 'poland': 'warsaw'}\n"
     ]
    }
   ],
   "source": [
    "europe = {'spain': 'madrid', 'france': 'paris', 'germany': 'berlin', 'noraway':'oslo', 'italy': 'rome', 'poland':'warsaw', 'austrailia':'vienna'}\n",
    "europe['germany'] = 'berlim'\n",
    "del(europe['austrailia'])\n",
    "print(europe)"
   ]
  },
  {
   "cell_type": "code",
   "execution_count": 6,
   "metadata": {},
   "outputs": [
    {
     "name": "stdout",
     "output_type": "stream",
     "text": [
      "paris\n",
      "{'spain': {'capital': 'madrid', 'population': 46.77}, 'france': {'capital': 'paris', 'population': 66.03}, 'germany': {'capital': 'berlin', 'population': 80.62}, 'noraway': {'capital': 'oslo', 'population': 5.084}, 'italy': {'capital': 'rome', 'population': 59.83}}\n"
     ]
    }
   ],
   "source": [
    "europe = {'spain':{'capital': 'madrid','population':46.77},\n",
    "          'france':{'capital': 'paris','population':66.03},\n",
    "          'germany':{'capital': 'berlin','population':80.62},\n",
    "          'noraway':{'capital' :'oslo', 'population':5.084}}\n",
    "print(europe['france']['capital'])\n",
    "data = {'capital':'rome', 'population':59.83}\n",
    "europe['italy'] = data\n",
    "print(europe)\n"
   ]
  }
 ],
 "metadata": {
  "kernelspec": {
   "display_name": "Python 3",
   "language": "python",
   "name": "python3"
  },
  "language_info": {
   "codemirror_mode": {
    "name": "ipython",
    "version": 3
   },
   "file_extension": ".py",
   "mimetype": "text/x-python",
   "name": "python",
   "nbconvert_exporter": "python",
   "pygments_lexer": "ipython3",
   "version": "3.11.3"
  },
  "orig_nbformat": 4
 },
 "nbformat": 4,
 "nbformat_minor": 2
}
