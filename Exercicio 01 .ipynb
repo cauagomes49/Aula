{
 "cells": [
  {
   "cell_type": "code",
   "execution_count": 1,
   "metadata": {},
   "outputs": [
    {
     "name": "stdout",
     "output_type": "stream",
     "text": [
      "8.333333333333334\n",
      "<class 'float'>\n",
      "<class 'str'>\n"
     ]
    }
   ],
   "source": [
    "aluno = 'Cauã'\n",
    "nota1 = 8.5\n",
    "nota2 = 9.0\n",
    "nota3 = 7.5\n",
    "media = (nota1 + nota2 + nota3)/3\n",
    "print(media)\n",
    "print(type(media))\n",
    "print(type(aluno))"
   ]
  },
  {
   "cell_type": "code",
   "execution_count": 2,
   "metadata": {},
   "outputs": [
    {
     "name": "stdout",
     "output_type": "stream",
     "text": [
      "Cauã Gomes\n"
     ]
    }
   ],
   "source": [
    "nome = 'Cauã' \n",
    "sobrenome = ' Gomes' \n",
    "nome_completo = nome + sobrenome\n",
    "print(nome_completo)\n"
   ]
  },
  {
   "cell_type": "code",
   "execution_count": 3,
   "metadata": {},
   "outputs": [
    {
     "name": "stdout",
     "output_type": "stream",
     "text": [
      "refrigerante\n",
      "leite\n",
      "['arroz', 'feijão', 'macarrão', 'leite', 'nescau']\n",
      "['café', 'biscoito', 'refrigerante']\n",
      "['macarrão', 'leite', 'nescau', 'carne', 'ovo']\n"
     ]
    }
   ],
   "source": [
    "lista_de_alimentos = ['arroz', 'feijão', 'macarrão', 'leite', 'nescau', 'carne', 'ovo', 'café', 'biscoito', 'refrigerante']\n",
    "print(lista_de_alimentos[-1])\n",
    "print(lista_de_alimentos[3])\n",
    "print(lista_de_alimentos[0 : 5])\n",
    "print(lista_de_alimentos[7 : 10])\n",
    "print(lista_de_alimentos[2 : 7])"
   ]
  },
  {
   "cell_type": "code",
   "execution_count": 30,
   "metadata": {},
   "outputs": [
    {
     "name": "stdout",
     "output_type": "stream",
     "text": [
      "102.0\n",
      "(['carne', 25.0], ['ovo', 24.0], ['feijão', 10.0])\n"
     ]
    }
   ],
   "source": [
    "lista_de_alimentos_com_preco = ['arroz', 5.0, 'feijão', 10.0, 'macarrão', 4.0, 'leite', 6.0, 'nescau', 7.0, 'carne', 25.0, 'ovo', 24.0, 'café', 8.0, 'biscoito', 5.0, 'refrigerante', 8.0]\n",
    "gasto_total = (lista_de_alimentos_com_preco[1] + lista_de_alimentos_com_preco[3] + lista_de_alimentos_com_preco[5] + lista_de_alimentos_com_preco[7]+ lista_de_alimentos_com_preco[9] +\n",
    "lista_de_alimentos_com_preco [11]+ lista_de_alimentos_com_preco [13]+ lista_de_alimentos_com_preco[15] + lista_de_alimentos_com_preco[17] + lista_de_alimentos_com_preco[19])\n",
    "print(gasto_total)\n",
    "alimentos_mais_caros = lista_de_alimentos_com_preco[10:12], lista_de_alimentos_com_preco[12:14], lista_de_alimentos_com_preco[2:4]\n",
    "print(alimentos_mais_caros)"
   ]
  },
  {
   "cell_type": "code",
   "execution_count": 35,
   "metadata": {},
   "outputs": [
    {
     "name": "stdout",
     "output_type": "stream",
     "text": [
      "['macarrão', 4.0]\n",
      "[['feijão', 10.0], ['macarrão', 4.0], ['leite', 6.0]]\n",
      "4.0\n",
      "leite\n",
      "7.0\n",
      "arroz\n"
     ]
    }
   ],
   "source": [
    "lista_de_alimentos_adaptada = ([['arroz', 5.0], ['feijão', 10.0], ['macarrão', 4.0], ['leite', 6.0], ['nescau', 7.0],\n",
    "['carne', 25.0], ['ovo', 24.0], ['café', 8.0], ['biscoito', 5.0], ['refrigerante', 8.0]])\n",
    "lista3 = lista_de_alimentos_adaptada[2]\n",
    "print(lista3)\n",
    "lista2a4 = lista_de_alimentos_adaptada [1:4]\n",
    "print(lista2a4)\n",
    "print(lista_de_alimentos_adaptada[2][-1])\n",
    "print(lista_de_alimentos_adaptada[3][0])\n",
    "print(lista_de_alimentos_adaptada[4][-1])\n",
    "print(lista_de_alimentos_adaptada[0][0])\n"
   ]
  }
 ],
 "metadata": {
  "kernelspec": {
   "display_name": "Python 3",
   "language": "python",
   "name": "python3"
  },
  "language_info": {
   "codemirror_mode": {
    "name": "ipython",
    "version": 3
   },
   "file_extension": ".py",
   "mimetype": "text/x-python",
   "name": "python",
   "nbconvert_exporter": "python",
   "pygments_lexer": "ipython3",
   "version": "3.11.2"
  },
  "orig_nbformat": 4,
  "vscode": {
   "interpreter": {
    "hash": "86b1cb3b0a3ba8e7bbc783448e2c4f6a3776c0b5d08dbcd8dde06e109890b3a1"
   }
  }
 },
 "nbformat": 4,
 "nbformat_minor": 2
}
