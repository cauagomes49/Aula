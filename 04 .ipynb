{
 "cells": [
  {
   "cell_type": "code",
   "execution_count": 1,
   "metadata": {},
   "outputs": [
    {
     "name": "stdout",
     "output_type": "stream",
     "text": [
      "38.0\n"
     ]
    }
   ],
   "source": [
    "#create the areas list\n",
    "areas = ['hallway', 11.25, 'kitchen', 18.0, 'living room', 20.0, 'bedroom', 10.75, 'bathroom', 9.5]\n",
    "#Sun of kitchen and bedroom area : eat_sleep_area\n",
    "eat_sleep_area  = areas[3] + areas[5]\n",
    "#Print the variable eat_sleep_area\n",
    "print (eat_sleep_area)\n"
   ]
  },
  {
   "cell_type": "code",
   "execution_count": 2,
   "metadata": {},
   "outputs": [
    {
     "name": "stdout",
     "output_type": "stream",
     "text": [
      "['hallway', 11.25, 'kitchen', 18.0, 'living room', 20.0]\n",
      "['bedroom', 10.75, 'bathroom', 9.5]\n"
     ]
    }
   ],
   "source": [
    "#create the areas list\n",
    "areas = ['hallway', 11.25, 'kitchen', 18.0, 'living room', 20.0, 'bedroom', 10.75, 'bathroom', 9.5]\n",
    "#use slicing to create downstairs\n",
    "downstairs = areas[ : 6 ]\n",
    "#use slicing to create upstairs\n",
    "upstairs = areas [  6: ]\n",
    "#Print out downstaris and upstairs\n",
    "print (downstairs)\n",
    "print (upstairs)"
   ]
  },
  {
   "cell_type": "code",
   "execution_count": 3,
   "metadata": {},
   "outputs": [
    {
     "data": {
      "text/plain": [
       "['g', 'h']"
      ]
     },
     "execution_count": 3,
     "metadata": {},
     "output_type": "execute_result"
    }
   ],
   "source": [
    "#Acessando Listas de listas\n",
    "x = [['a','b','c'],\n",
    "     ['d','e','f'],\n",
    "     ['g','h','i']]\n",
    "x[2][0]\n",
    "x[2][:2]"
   ]
  },
  {
   "cell_type": "code",
   "execution_count": 4,
   "metadata": {},
   "outputs": [
    {
     "data": {
      "text/plain": [
       "9.5"
      ]
     },
     "execution_count": 4,
     "metadata": {},
     "output_type": "execute_result"
    }
   ],
   "source": [
    "hall = 11.25\n",
    "kit = 18.0\n",
    "liv = 20.0\n",
    "bed = 10.75\n",
    "bath = 9.50\n",
    "house = [['hallway', hall], ['kitchen', kit], ['living room', liv], ['bedroom', bed], ['bathroom', bath]]\n",
    "house [-1][1]\n",
    "\n"
   ]
  },
  {
   "cell_type": "code",
   "execution_count": 5,
   "metadata": {},
   "outputs": [
    {
     "name": "stdout",
     "output_type": "stream",
     "text": [
      "['Liz', 1.73, 'emma', 1.68, 'mom', 1.71, 'dad', 1.89]\n",
      "['Liz', 1.73, 'emma', 1.68, 'mom', 1.71, 'dad', 1.86]\n",
      "['Lisa', 1.74, 'emma', 1.68, 'mom', 1.71, 'dad', 1.86]\n"
     ]
    }
   ],
   "source": [
    "#Manipulando listas\n",
    "fam = ['Liz', 1.73, 'emma', 1.68, 'mom', 1.71, 'dad', 1.89]\n",
    "print(fam)\n",
    "fam[7] = 1.86\n",
    "print(fam)\n",
    "fam[0:2] = ['Lisa', 1.74]\n",
    "print(fam)\n"
   ]
  },
  {
   "cell_type": "code",
   "execution_count": 6,
   "metadata": {},
   "outputs": [
    {
     "name": "stdout",
     "output_type": "stream",
     "text": [
      "['Lisa', 1.74, 'emma', 1.68, 'mom', 1.71, 'dad', 1.86]\n",
      "['Lisa', 1.74, 'emma', 1.68, 'mom', 1.71, 'dad', 1.86, 'me', 1.79]\n",
      "['Lisa', 1.74, 'emma', 1.68, 'mom', 1.71, 'dad', 1.86, 'me', 1.79]\n"
     ]
    }
   ],
   "source": [
    "#concatenando o 'me' a lista\n",
    "fam + ['me', 1.79]\n",
    "print (fam)\n",
    "fam_ext = fam + ['me', 1.79]\n",
    "print(fam_ext)\n",
    "del(fam[2])\n",
    "print(fam_ext)"
   ]
  },
  {
   "cell_type": "code",
   "execution_count": null,
   "metadata": {},
   "outputs": [
    {
     "name": "stdout",
     "output_type": "stream",
     "text": [
      "['a', 'z', 'c']\n",
      "['a', 'z', 'c']\n"
     ]
    }
   ],
   "source": [
    "# Informação Importante sobre manipulação de listas\n",
    "x = ['a', 'b', 'c']\n",
    "y = x\n",
    "y[1] = 'z'\n",
    "print(y)\n",
    "print(x)\n"
   ]
  },
  {
   "cell_type": "code",
   "execution_count": 8,
   "metadata": {},
   "outputs": [
    {
     "name": "stdout",
     "output_type": "stream",
     "text": [
      "['a', 'b', 'c']\n"
     ]
    }
   ],
   "source": [
    "#Criar uma lista a partir de outra lista. (sugestão de duas maneiras)\n",
    "x = ['a','b','c']\n",
    "y = list(x)\n",
    "y = x[:]\n",
    "print(y)"
   ]
  },
  {
   "cell_type": "code",
   "execution_count": 9,
   "metadata": {},
   "outputs": [
    {
     "name": "stdout",
     "output_type": "stream",
     "text": [
      "['hallway', 11.25, 'kitchen', 18.0, 'chill zone', 20.0, 'bedroom', 10.75, 'bathroom', 10.5]\n"
     ]
    }
   ],
   "source": [
    "#create the areas list\n",
    "areas = ['hallway', 11.25, 'kitchen', 18.0, 'living room', 20.0, 'bedroom', 10.75, 'bathroom', 9.5]\n",
    "#Correct the bathroom area\n",
    "areas[-1] = 10.50\n",
    "#change 'living room' to 'chill zone'\n",
    "areas[4] = 'chill zone'\n",
    "print(areas)"
   ]
  },
  {
   "cell_type": "code",
   "execution_count": null,
   "metadata": {},
   "outputs": [],
   "source": [
    "# Create the areas list and make some changes \n",
    "areas = ['hallway', 11.25, 'kitchen', 18.0, 'chill zone', 20.0, 'bedroom', 10.75, 'bathroom', 10.5]\n",
    "# Add poolshouse data to areas, new list is areas_1\n",
    "areas + ['poolhouse', 24.5]\n",
    "areas_1 = areas + ['poolhouse', 24.5]\n",
    "print(areas_1)\n",
    "# Add garagem datato areas_1, new list is areas_2\n",
    "areas_1 + ['garagem', 15.5]\n",
    "areas_2 = areas_1 + ['garagem', 15.5]\n",
    "print(areas_2)"
   ]
  },
  {
   "cell_type": "code",
   "execution_count": null,
   "metadata": {},
   "outputs": [],
   "source": []
  }
 ],
 "metadata": {
  "kernelspec": {
   "display_name": "Python 3",
   "language": "python",
   "name": "python3"
  },
  "language_info": {
   "codemirror_mode": {
    "name": "ipython",
    "version": 3
   },
   "file_extension": ".py",
   "mimetype": "text/x-python",
   "name": "python",
   "nbconvert_exporter": "python",
   "pygments_lexer": "ipython3",
   "version": "3.11.2"
  },
  "orig_nbformat": 4
 },
 "nbformat": 4,
 "nbformat_minor": 2
}
