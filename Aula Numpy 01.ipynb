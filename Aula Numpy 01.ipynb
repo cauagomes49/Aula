{
  "cells": [
    {
      "cell_type": "code",
      "execution_count": 3,
      "metadata": {
        "id": "QqNjVyYivnb2"
      },
      "outputs": [],
      "source": [
        "import numpy\n",
        "# array([1, 2, 3]) tem que colocar o a biblioteca numpy. antes"
      ]
    },
    {
      "cell_type": "code",
      "execution_count": 4,
      "metadata": {
        "colab": {
          "base_uri": "https://localhost:8080/"
        },
        "id": "xYPeNQdGwBbX",
        "outputId": "7efc39fa-f80e-4afd-88eb-df09d5c1df34"
      },
      "outputs": [
        {
          "data": {
            "text/plain": [
              "array([1, 2, 3])"
            ]
          },
          "execution_count": 4,
          "metadata": {},
          "output_type": "execute_result"
        }
      ],
      "source": [
        "numpy.array([1, 2, 3])"
      ]
    },
    {
      "cell_type": "code",
      "execution_count": 5,
      "metadata": {
        "colab": {
          "base_uri": "https://localhost:8080/"
        },
        "id": "s5JuL5_uwoTv",
        "outputId": "c27fbbae-dd71-4438-b87a-5cc40daa0564"
      },
      "outputs": [
        {
          "data": {
            "text/plain": [
              "array([1, 2, 3])"
            ]
          },
          "execution_count": 5,
          "metadata": {},
          "output_type": "execute_result"
        }
      ],
      "source": [
        "import numpy as np # com esse comando irei poder abreviar o numpy para np\n",
        "np.array([1, 2, 3])"
      ]
    },
    {
      "cell_type": "code",
      "execution_count": 6,
      "metadata": {
        "colab": {
          "base_uri": "https://localhost:8080/"
        },
        "id": "4fFaq5lBxDTI",
        "outputId": "d553bcef-1ec7-403e-bc49-93c62d3f2122"
      },
      "outputs": [
        {
          "data": {
            "text/plain": [
              "array([1, 2, 3])"
            ]
          },
          "execution_count": 6,
          "metadata": {},
          "output_type": "execute_result"
        }
      ],
      "source": [
        "from numpy import array # comando para n ter que colocar o numpy antes\n",
        "array([1, 2, 3])"
      ]
    },
    {
      "cell_type": "code",
      "execution_count": 7,
      "metadata": {
        "colab": {
          "base_uri": "https://localhost:8080/"
        },
        "id": "eBDzrM2xxW73",
        "outputId": "53b788a5-fb84-49ea-9f8b-88bd99b64af5"
      },
      "outputs": [
        {
          "name": "stdout",
          "output_type": "stream",
          "text": [
            "['Liz', 1.73, 'Emma', 1.68, 'Mom', 1.71, 'Dad', 1.89, 'Me', 1.79]\n",
            "<class 'list'>\n",
            "10elements in fam_ext\n"
          ]
        }
      ],
      "source": [
        "import numpy as np\n",
        "fam = ['Liz', 1.73, 'Emma', 1.68, 'Mom', 1.71, 'Dad', 1.89]\n",
        "fam_ext = fam + ['Me', 1.79]\n",
        "print(fam_ext)\n",
        "print(type(fam_ext))\n",
        "print(str(len(fam_ext)) + 'elements in fam_ext')\n",
        "np_fam = np.array(fam_ext)"
      ]
    },
    {
      "cell_type": "code",
      "execution_count": 8,
      "metadata": {
        "colab": {
          "base_uri": "https://localhost:8080/"
        },
        "id": "e-MbZM6CzEUA",
        "outputId": "b8716e9b-7f2c-4573-d001-9b1b2070e524"
      },
      "outputs": [
        {
          "name": "stdout",
          "output_type": "stream",
          "text": [
            "Circuference: 2.701769682087222\n",
            "área: 0.5808804816487527\n"
          ]
        }
      ],
      "source": [
        "# difinition of radius\n",
        "r = 0.43\n",
        "# import the math package\n",
        "import math\n",
        "# calculate c\n",
        "c =  2 * math.pi * r\n",
        "# calculate a\n",
        "a = math.pi * r ** 2\n",
        "# build printout\n",
        "print('Circuference: ' + str(c))\n",
        "print('área: ' + str(a))"
      ]
    },
    {
      "cell_type": "code",
      "execution_count": 9,
      "metadata": {
        "colab": {
          "base_uri": "https://localhost:8080/"
        },
        "id": "vp4zmppX1e3I",
        "outputId": "efdef04a-04fc-4c4c-a78b-5d567ca3a8b3"
      },
      "outputs": [
        {
          "name": "stdout",
          "output_type": "stream",
          "text": [
            "[1.7, 1.8, 1.72, 1.65, 1.83]\n",
            "[82, 70, 75, 63, 76]\n"
          ]
        }
      ],
      "source": [
        "height = [1.70, 1.80, 1.72, 1.65, 1.83]\n",
        "print(height)\n",
        "weight = [82, 70, 75, 63, 76]\n",
        "print(weight)\n",
        "# weight/ height ** 2 (não tem como fazer uma divisão de listas sem o numpy)"
      ]
    },
    {
      "cell_type": "code",
      "execution_count": 10,
      "metadata": {
        "colab": {
          "base_uri": "https://localhost:8080/"
        },
        "id": "Evc4jeQg2WKS",
        "outputId": "1e4f225a-381c-4173-ce16-b34be2c8f308"
      },
      "outputs": [
        {
          "name": "stdout",
          "output_type": "stream",
          "text": [
            "[1.7  1.8  1.72 1.65 1.83]\n",
            "[82 70 75 63 76]\n",
            "[28.37370242 21.60493827 25.35154137 23.14049587 22.69401893]\n"
          ]
        }
      ],
      "source": [
        "np_height = np.array(height)\n",
        "print(np_height)\n",
        "np_weight = np.array(weight)\n",
        "print(np_weight)\n",
        "bmi = np_weight / np_height ** 2\n",
        "print(bmi)"
      ]
    },
    {
      "cell_type": "code",
      "execution_count": 11,
      "metadata": {
        "colab": {
          "base_uri": "https://localhost:8080/"
        },
        "id": "Bzvdo1lc3Y34",
        "outputId": "ebe19e9e-4d0e-4423-ce70-195562ee69b6"
      },
      "outputs": [
        {
          "name": "stdout",
          "output_type": "stream",
          "text": [
            "[1, 2, 3, 1, 2, 3]\n",
            "[2 4 6]\n"
          ]
        }
      ],
      "source": [
        "python_list = [1, 2, 3]\n",
        "numpy_array = np.array([1, 2, 3])\n",
        "print(python_list + python_list)\n",
        "print(numpy_array + numpy_array)                    "
      ]
    },
    {
      "cell_type": "code",
      "execution_count": 12,
      "metadata": {
        "colab": {
          "base_uri": "https://localhost:8080/"
        },
        "id": "bRHPshv14yvi",
        "outputId": "6fcf293d-8a11-4494-f665-3664daa973e8"
      },
      "outputs": [
        {
          "name": "stdout",
          "output_type": "stream",
          "text": [
            "[28.37370242 21.60493827 25.35154137 23.14049587 22.69401893]\n",
            "21.604938271604937\n",
            "[ True False  True  True False]\n",
            "[28.37370242 25.35154137 23.14049587]\n"
          ]
        }
      ],
      "source": [
        "print(bmi)\n",
        "print(bmi[1])\n",
        "print(bmi > 23)\n",
        "print(bmi[bmi > 23])"
      ]
    }
  ],
  "metadata": {
    "colab": {
      "authorship_tag": "ABX9TyOmksfDdeXSt1qwMZF1PyXd",
      "provenance": []
    },
    "kernelspec": {
      "display_name": "Python 3",
      "name": "python3"
    },
    "language_info": {
      "codemirror_mode": {
        "name": "ipython",
        "version": 3
      },
      "file_extension": ".py",
      "mimetype": "text/x-python",
      "name": "python",
      "nbconvert_exporter": "python",
      "pygments_lexer": "ipython3",
      "version": "3.11.3"
    }
  },
  "nbformat": 4,
  "nbformat_minor": 0
}
