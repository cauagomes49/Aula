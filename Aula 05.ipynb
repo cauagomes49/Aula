{
  "nbformat": 4,
  "nbformat_minor": 0,
  "metadata": {
    "colab": {
      "provenance": [],
      "authorship_tag": "ABX9TyMvKf/ZA2vzFnu2yJyEKOut",
      "include_colab_link": true
    },
    "kernelspec": {
      "name": "python3",
      "display_name": "Python 3"
    },
    "language_info": {
      "name": "python"
    }
  },
  "cells": [
    {
      "cell_type": "markdown",
      "metadata": {
        "id": "view-in-github",
        "colab_type": "text"
      },
      "source": [
        "<a href=\"https://colab.research.google.com/github/cauagomes49/Aula/blob/master/Aula_05.ipynb\" target=\"_parent\"><img src=\"https://colab.research.google.com/assets/colab-badge.svg\" alt=\"Open In Colab\"/></a>"
      ]
    },
    {
      "cell_type": "code",
      "execution_count": null,
      "metadata": {
        "id": "-dZc_j5zGZ9Q"
      },
      "outputs": [],
      "source": [
        "#Funções"
      ]
    },
    {
      "cell_type": "code",
      "source": [
        "fam= [1.73, 1.68, 1.71, 1.89]\n",
        "print(fam)\n",
        "max(fam)"
      ],
      "metadata": {
        "colab": {
          "base_uri": "https://localhost:8080/"
        },
        "id": "-nQaiySWGcG9",
        "outputId": "41da2f17-69c3-4387-d886-3af55886d9d8"
      },
      "execution_count": null,
      "outputs": [
        {
          "output_type": "stream",
          "name": "stdout",
          "text": [
            "[1.73, 1.68, 1.71, 1.89]\n"
          ]
        },
        {
          "output_type": "execute_result",
          "data": {
            "text/plain": [
              "1.89"
            ]
          },
          "metadata": {},
          "execution_count": 1
        }
      ]
    },
    {
      "cell_type": "code",
      "source": [
        "print(round(1.68, 1))\n",
        "round(1.68)"
      ],
      "metadata": {
        "colab": {
          "base_uri": "https://localhost:8080/"
        },
        "id": "AUN5fxcwG08L",
        "outputId": "ba069837-f3be-4d22-c192-d898ad891df7"
      },
      "execution_count": null,
      "outputs": [
        {
          "output_type": "stream",
          "name": "stdout",
          "text": [
            "1.7\n"
          ]
        },
        {
          "output_type": "execute_result",
          "data": {
            "text/plain": [
              "2"
            ]
          },
          "metadata": {},
          "execution_count": 6
        }
      ]
    },
    {
      "cell_type": "code",
      "source": [
        "# create variables var1 and var2\n",
        "var1 = [1, 2, 3, 4]\n",
        "var2 = True\n",
        "#print out type of var1\n",
        "print(type(var1))\n",
        "#print out length of var1\n",
        "print(len(var1))\n",
        "#convert var2 to an integer: out2\n",
        "out2= int(var2)\n",
        "print(out2)"
      ],
      "metadata": {
        "colab": {
          "base_uri": "https://localhost:8080/"
        },
        "id": "PEe_FYZ2Hmlb",
        "outputId": "14806643-7dbc-495e-ca47-bd12d6e5872a"
      },
      "execution_count": null,
      "outputs": [
        {
          "output_type": "stream",
          "name": "stdout",
          "text": [
            "<class 'list'>\n",
            "4\n",
            "1\n"
          ]
        }
      ]
    },
    {
      "cell_type": "code",
      "source": [
        "help(round) #open up documentation"
      ],
      "metadata": {
        "colab": {
          "base_uri": "https://localhost:8080/"
        },
        "id": "GhrJ-3K-HJfT",
        "outputId": "e7521d6e-abc3-4cab-b3b9-7961e5d5101c"
      },
      "execution_count": null,
      "outputs": [
        {
          "output_type": "stream",
          "name": "stdout",
          "text": [
            "Help on built-in function round in module builtins:\n",
            "\n",
            "round(number, ndigits=None)\n",
            "    Round a number to a given precision in decimal digits.\n",
            "    \n",
            "    The return value is an integer if ndigits is omitted or None.  Otherwise\n",
            "    the return value has the same type as the number.  ndigits may be negative.\n",
            "\n"
          ]
        }
      ]
    },
    {
      "cell_type": "code",
      "source": [
        " # create list first and second\n",
        " first = [11.25, 18.0, 20.0]\n",
        " second = [10.75, 9.50]\n",
        " # paste together fisrt and second: full\n",
        " full = first + second\n",
        " print(full)\n",
        " #sort full in descending order:\n",
        " full_sorted = sorted(full)\n",
        " print(full_sorted)\n",
        " print(sorted(full_sorted,reverse=True))"
      ],
      "metadata": {
        "colab": {
          "base_uri": "https://localhost:8080/"
        },
        "id": "K4hUwMLyJoyc",
        "outputId": "29a5fd9f-16d1-4ab9-9df8-ddd53129b2f1"
      },
      "execution_count": null,
      "outputs": [
        {
          "output_type": "stream",
          "name": "stdout",
          "text": [
            "[11.25, 18.0, 20.0, 10.75, 9.5]\n",
            "[9.5, 10.75, 11.25, 18.0, 20.0]\n",
            "[20.0, 18.0, 11.25, 10.75, 9.5]\n"
          ]
        }
      ]
    },
    {
      "cell_type": "code",
      "source": [
        "fam = ['Elias', 1.70, 'Marta', 1.62, 'Daniel', 1.74, 'Carla', 1.62]\n",
        "print(fam)\n",
        "print(fam.index ('Marta')) # call method index () on fam\n",
        "fam.count(1.62) # mostra quantas vezes o elemento está presente na lista"
      ],
      "metadata": {
        "colab": {
          "base_uri": "https://localhost:8080/"
        },
        "id": "2YlwLEnsNAdS",
        "outputId": "92bfeb91-bf35-44a8-a6fe-963c020d6c68"
      },
      "execution_count": null,
      "outputs": [
        {
          "output_type": "stream",
          "name": "stdout",
          "text": [
            "['Elias', 1.7, 'Marta', 1.62, 'Daniel', 1.74, 'Carla', 1.62]\n",
            "2\n"
          ]
        },
        {
          "output_type": "execute_result",
          "data": {
            "text/plain": [
              "2"
            ]
          },
          "metadata": {},
          "execution_count": 18
        }
      ]
    },
    {
      "cell_type": "code",
      "source": [
        "print(fam)\n",
        "fam.append('Me')\n",
        "print(fam)\n",
        "fam.append(1.74)\n",
        "print(fam)"
      ],
      "metadata": {
        "colab": {
          "base_uri": "https://localhost:8080/"
        },
        "id": "Sz57Nk0QOXEK",
        "outputId": "a17b27f1-c7aa-42a6-c7c6-13b4549289a3"
      },
      "execution_count": null,
      "outputs": [
        {
          "output_type": "stream",
          "name": "stdout",
          "text": [
            "['Elias', 1.7, 'Marta', 1.62, 'Daniel', 1.74, 'Carla', 1.62]\n",
            "['Elias', 1.7, 'Marta', 1.62, 'Daniel', 1.74, 'Carla', 1.62, 'Me']\n",
            "['Elias', 1.7, 'Marta', 1.62, 'Daniel', 1.74, 'Carla', 1.62, 'Me', 1.74]\n"
          ]
        }
      ]
    },
    {
      "cell_type": "code",
      "source": [
        "sister = 'carla'\n",
        "print(sister.capitalize())\n",
        "print(sister.replace('arla', 'lara'))"
      ],
      "metadata": {
        "colab": {
          "base_uri": "https://localhost:8080/"
        },
        "id": "1Mx5jMwnPB_6",
        "outputId": "45924adc-dcf5-4af5-8528-a179b270adbf"
      },
      "execution_count": null,
      "outputs": [
        {
          "output_type": "stream",
          "name": "stdout",
          "text": [
            "Carla\n",
            "clara\n"
          ]
        }
      ]
    },
    {
      "cell_type": "code",
      "source": [
        "# string to experiment with : place\n",
        "place = 'poolhouse'\n",
        "# use upper() on place: place_up\n",
        "place_up = place.upper()\n",
        "print(place)\n",
        "print(place_up)\n",
        "place.count('o')"
      ],
      "metadata": {
        "colab": {
          "base_uri": "https://localhost:8080/"
        },
        "id": "zw2-EkebQurh",
        "outputId": "6269ccd2-8e55-44ef-ef1c-de7c529b77ad"
      },
      "execution_count": null,
      "outputs": [
        {
          "output_type": "stream",
          "name": "stdout",
          "text": [
            "poolhouse\n",
            "POOLHOUSE\n"
          ]
        },
        {
          "output_type": "execute_result",
          "data": {
            "text/plain": [
              "3"
            ]
          },
          "metadata": {},
          "execution_count": 26
        }
      ]
    }
  ]
}