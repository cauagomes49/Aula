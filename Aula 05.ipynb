{
  "cells": [
    {
      "cell_type": "code",
      "execution_count": null,
      "metadata": {
        "id": "-dZc_j5zGZ9Q"
      },
      "outputs": [],
      "source": [
        "#Funções"
      ]
    },
    {
      "cell_type": "code",
      "execution_count": null,
      "metadata": {
        "colab": {
          "base_uri": "https://localhost:8080/"
        },
        "id": "-nQaiySWGcG9",
        "outputId": "41da2f17-69c3-4387-d886-3af55886d9d8"
      },
      "outputs": [
        {
          "name": "stdout",
          "output_type": "stream",
          "text": [
            "[1.73, 1.68, 1.71, 1.89]\n"
          ]
        },
        {
          "data": {
            "text/plain": [
              "1.89"
            ]
          },
          "execution_count": 1,
          "metadata": {},
          "output_type": "execute_result"
        }
      ],
      "source": [
        "fam= [1.73, 1.68, 1.71, 1.89]\n",
        "print(fam)\n",
        "max(fam)"
      ]
    },
    {
      "cell_type": "code",
      "execution_count": null,
      "metadata": {
        "colab": {
          "base_uri": "https://localhost:8080/"
        },
        "id": "AUN5fxcwG08L",
        "outputId": "ba069837-f3be-4d22-c192-d898ad891df7"
      },
      "outputs": [
        {
          "name": "stdout",
          "output_type": "stream",
          "text": [
            "1.7\n"
          ]
        },
        {
          "data": {
            "text/plain": [
              "2"
            ]
          },
          "execution_count": 6,
          "metadata": {},
          "output_type": "execute_result"
        }
      ],
      "source": [
        "print(round(1.68, 1))\n",
        "round(1.68)"
      ]
    },
    {
      "cell_type": "code",
      "execution_count": null,
      "metadata": {
        "colab": {
          "base_uri": "https://localhost:8080/"
        },
        "id": "PEe_FYZ2Hmlb",
        "outputId": "14806643-7dbc-495e-ca47-bd12d6e5872a"
      },
      "outputs": [
        {
          "name": "stdout",
          "output_type": "stream",
          "text": [
            "<class 'list'>\n",
            "4\n",
            "1\n"
          ]
        }
      ],
      "source": [
        "# create variables var1 and var2\n",
        "var1 = [1, 2, 3, 4]\n",
        "var2 = True\n",
        "#print out type of var1\n",
        "print(type(var1))\n",
        "#print out length of var1\n",
        "print(len(var1))\n",
        "#convert var2 to an integer: out2\n",
        "out2= int(var2)\n",
        "print(out2)"
      ]
    },
    {
      "cell_type": "code",
      "execution_count": null,
      "metadata": {
        "colab": {
          "base_uri": "https://localhost:8080/"
        },
        "id": "GhrJ-3K-HJfT",
        "outputId": "e7521d6e-abc3-4cab-b3b9-7961e5d5101c"
      },
      "outputs": [
        {
          "name": "stdout",
          "output_type": "stream",
          "text": [
            "Help on built-in function round in module builtins:\n",
            "\n",
            "round(number, ndigits=None)\n",
            "    Round a number to a given precision in decimal digits.\n",
            "    \n",
            "    The return value is an integer if ndigits is omitted or None.  Otherwise\n",
            "    the return value has the same type as the number.  ndigits may be negative.\n",
            "\n"
          ]
        }
      ],
      "source": [
        "help(round) #open up documentation"
      ]
    },
    {
      "cell_type": "code",
      "execution_count": 4,
      "metadata": {
        "colab": {
          "base_uri": "https://localhost:8080/"
        },
        "id": "K4hUwMLyJoyc",
        "outputId": "29a5fd9f-16d1-4ab9-9df8-ddd53129b2f1"
      },
      "outputs": [
        {
          "name": "stdout",
          "output_type": "stream",
          "text": [
            "[11.25, 18.0, 20.0, 10.75, 9.5]\n",
            "[9.5, 10.75, 11.25, 18.0, 20.0]\n",
            "[20.0, 18.0, 11.25, 10.75, 9.5]\n"
          ]
        }
      ],
      "source": [
        " # create list first and second\n",
        "first = [11.25, 18.0, 20.0]\n",
        "second = [10.75, 9.50]\n",
        "# paste together fisrt and second: full\n",
        "full = first + second\n",
        "print(full)\n",
        "#sort full in descending order:\n",
        "full_sorted = sorted(full)\n",
        "print(full_sorted)\n",
        "print(sorted(full_sorted,reverse=True))"
      ]
    },
    {
      "cell_type": "code",
      "execution_count": null,
      "metadata": {
        "colab": {
          "base_uri": "https://localhost:8080/"
        },
        "id": "2YlwLEnsNAdS",
        "outputId": "92bfeb91-bf35-44a8-a6fe-963c020d6c68"
      },
      "outputs": [
        {
          "name": "stdout",
          "output_type": "stream",
          "text": [
            "['Elias', 1.7, 'Marta', 1.62, 'Daniel', 1.74, 'Carla', 1.62]\n",
            "2\n"
          ]
        },
        {
          "data": {
            "text/plain": [
              "2"
            ]
          },
          "execution_count": 18,
          "metadata": {},
          "output_type": "execute_result"
        }
      ],
      "source": [
        "fam = ['Elias', 1.70, 'Marta', 1.62, 'Daniel', 1.74, 'Carla', 1.62]\n",
        "print(fam)\n",
        "print(fam.index ('Marta')) # call method index () on fam\n",
        "fam.count(1.62) # mostra quantas vezes o elemento está presente na lista"
      ]
    },
    {
      "cell_type": "code",
      "execution_count": null,
      "metadata": {
        "colab": {
          "base_uri": "https://localhost:8080/"
        },
        "id": "Sz57Nk0QOXEK",
        "outputId": "a17b27f1-c7aa-42a6-c7c6-13b4549289a3"
      },
      "outputs": [
        {
          "name": "stdout",
          "output_type": "stream",
          "text": [
            "['Elias', 1.7, 'Marta', 1.62, 'Daniel', 1.74, 'Carla', 1.62]\n",
            "['Elias', 1.7, 'Marta', 1.62, 'Daniel', 1.74, 'Carla', 1.62, 'Me']\n",
            "['Elias', 1.7, 'Marta', 1.62, 'Daniel', 1.74, 'Carla', 1.62, 'Me', 1.74]\n"
          ]
        }
      ],
      "source": [
        "print(fam)\n",
        "fam.append('Me')\n",
        "print(fam)\n",
        "fam.append(1.74)\n",
        "print(fam)"
      ]
    },
    {
      "cell_type": "code",
      "execution_count": null,
      "metadata": {
        "colab": {
          "base_uri": "https://localhost:8080/"
        },
        "id": "1Mx5jMwnPB_6",
        "outputId": "45924adc-dcf5-4af5-8528-a179b270adbf"
      },
      "outputs": [
        {
          "name": "stdout",
          "output_type": "stream",
          "text": [
            "Carla\n",
            "clara\n"
          ]
        }
      ],
      "source": [
        "sister = 'carla'\n",
        "print(sister.capitalize())\n",
        "print(sister.replace('arla', 'lara'))"
      ]
    },
    {
      "cell_type": "code",
      "execution_count": 3,
      "metadata": {
        "colab": {
          "base_uri": "https://localhost:8080/"
        },
        "id": "zw2-EkebQurh",
        "outputId": "6269ccd2-8e55-44ef-ef1c-de7c529b77ad"
      },
      "outputs": [
        {
          "name": "stdout",
          "output_type": "stream",
          "text": [
            "poolhouse\n",
            "POOLHOUSE\n",
            "3\n"
          ]
        }
      ],
      "source": [
        "# string to experiment with : place\n",
        "place = 'poolhouse'\n",
        "# use upper() on place: place_up\n",
        "place_up = place.upper()\n",
        "print(place)\n",
        "print(place_up)\n",
        "print(place.count('o'))"
      ]
    },
    {
      "cell_type": "code",
      "execution_count": 2,
      "metadata": {},
      "outputs": [
        {
          "name": "stdout",
          "output_type": "stream",
          "text": [
            "2\n",
            "1\n"
          ]
        }
      ],
      "source": [
        "# create list areas\n",
        "areas = [11.25, 18.8, 20.0, 10.75, 9.50]\n",
        "# print out the index of the element 20.0\n",
        "print(areas.index(20.0))\n",
        "# print out how often 9.50 appears in areas\n",
        "print(areas.count(9.50))"
      ]
    }
  ],
  "metadata": {
    "colab": {
      "authorship_tag": "ABX9TyMvKf/ZA2vzFnu2yJyEKOut",
      "include_colab_link": true,
      "provenance": []
    },
    "kernelspec": {
      "display_name": "Python 3",
      "name": "python3"
    },
    "language_info": {
      "codemirror_mode": {
        "name": "ipython",
        "version": 3
      },
      "file_extension": ".py",
      "mimetype": "text/x-python",
      "name": "python",
      "nbconvert_exporter": "python",
      "pygments_lexer": "ipython3",
      "version": "3.11.2"
    }
  },
  "nbformat": 4,
  "nbformat_minor": 0
}
