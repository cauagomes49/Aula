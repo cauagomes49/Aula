{
  "nbformat": 4,
  "nbformat_minor": 0,
  "metadata": {
    "colab": {
      "provenance": []
    },
    "kernelspec": {
      "name": "python3",
      "display_name": "Python 3"
    },
    "language_info": {
      "name": "python"
    }
  },
  "cells": [
    {
      "cell_type": "markdown",
      "source": [
        "1) Faça uma análise de notas. Atribua valores para notas 1, 2 e 3. Calcule a média aritmética das notas e armazene o valor na variaável media. \n",
        "Em seguida, verifique se a media calculada é superior ou igual a 7. Se aceita a condição, exiba pelo comando print a string aprovado, caso contrário, exiba a palavra reprovado."
      ],
      "metadata": {
        "id": "5XHusYFol0ph"
      }
    },
    {
      "cell_type": "code",
      "execution_count": null,
      "metadata": {
        "id": "dIaNlIiXilH0"
      },
      "outputs": [],
      "source": [
        "#RESPOSTA\n",
        "nota1 = \n",
        "nota2 =\n",
        "nota3 = \n",
        "media = \n",
        "\n",
        "#exibir a media\n",
        "\n",
        "#verificação da media\n"
      ]
    },
    {
      "cell_type": "markdown",
      "source": [
        "2) Suponha agora que dever ser analisado as notas de 3 alunos. Cada aluno é um array que possue 3 valores. Calcule a média de cada aluno. Cada valor de média deve ser armazenado em outro array, medias. Calcule a media aritmetrica do array media e realize uma análise da turma. Caso a média da turma seja maior que 7, print a string \"turma com bom rendimento\", caso media entre 5 e 7, print \"turma com rendimento razoável\". Caso contrário, \"turma com baixo rendimento\"."
      ],
      "metadata": {
        "id": "0J0i684b0h-w"
      }
    },
    {
      "cell_type": "code",
      "source": [
        "#RESPOSTA\n",
        "aluno1 = \n",
        "aluno2 = \n",
        "aluno3=\n",
        "\n",
        "media1 = \n",
        "media2 = \n",
        "media3 = \n",
        "\n",
        "medias = \n",
        "\n",
        "#analise da media"
      ],
      "metadata": {
        "id": "HUDwy-QY2IpP"
      },
      "execution_count": null,
      "outputs": []
    },
    {
      "cell_type": "markdown",
      "source": [
        "3) Construa um dicionário turma que contem 4 chaves aluno1, aluno2,aluno3 e media_da_turma. Cada aluno deve conter 3 notas. Na chave media_da_turma deve conter a media de cada aluno. Construa um dataframe a partir deste dicionário e mostre o dataframe."
      ],
      "metadata": {
        "id": "rPYrKFdQ2phl"
      }
    },
    {
      "cell_type": "code",
      "source": [
        "#resposta\n",
        "turma = {}"
      ],
      "metadata": {
        "id": "cg00_Xto4G4m"
      },
      "execution_count": null,
      "outputs": []
    },
    {
      "cell_type": "code",
      "source": [],
      "metadata": {
        "id": "492fvhFf64MO"
      },
      "execution_count": null,
      "outputs": []
    },
    {
      "cell_type": "markdown",
      "source": [
        "4) Aumente o dataframe da questão 3 para 10 alunos e mostre o histograma da nota 2. "
      ],
      "metadata": {
        "id": "1lfqFSBN7T8E"
      }
    },
    {
      "cell_type": "code",
      "source": [
        "#resposta"
      ],
      "metadata": {
        "id": "q4_5nyZW71vm"
      },
      "execution_count": null,
      "outputs": []
    },
    {
      "cell_type": "markdown",
      "source": [
        "5) Utilizando o dataframe da questão 4 mostre o grafico de linhas de todas as notas e médias."
      ],
      "metadata": {
        "id": "RKXT09zf73YX"
      }
    },
    {
      "cell_type": "code",
      "source": [
        "#resposta:\n"
      ],
      "metadata": {
        "id": "f5BqANmj8THe"
      },
      "execution_count": null,
      "outputs": []
    },
    {
      "cell_type": "markdown",
      "source": [],
      "metadata": {
        "id": "rxWops_T8xOG"
      }
    }
  ]
}