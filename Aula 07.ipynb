{
 "cells": [
  {
   "cell_type": "code",
   "execution_count": 10,
   "metadata": {},
   "outputs": [
    {
     "name": "stdout",
     "output_type": "stream",
     "text": [
      "[[ 1.73  1.68  1.71  1.89  1.79]\n",
      " [65.4  59.2  63.6  88.4  68.7 ]]\n"
     ]
    }
   ],
   "source": [
    "import numpy as np\n",
    "np_2d = np.array([[1.73, 1.68, 1.71, 1.89, 1.79],\n",
    "                [65.4, 59.2, 63.6, 88.4, 68.7]])\n",
    "print(np_2d)"
   ]
  },
  {
   "cell_type": "code",
   "execution_count": 11,
   "metadata": {},
   "outputs": [
    {
     "data": {
      "text/plain": [
       "(2, 5)"
      ]
     },
     "execution_count": 11,
     "metadata": {},
     "output_type": "execute_result"
    }
   ],
   "source": [
    "np_2d.shape"
   ]
  },
  {
   "cell_type": "code",
   "execution_count": 13,
   "metadata": {},
   "outputs": [
    {
     "data": {
      "text/plain": [
       "array([['1.73', '1.68', '1.71', '1.89', '1.79'],\n",
       "       ['65.4', '59.2', '63.6', '88.4', '68.7']], dtype='<U32')"
      ]
     },
     "execution_count": 13,
     "metadata": {},
     "output_type": "execute_result"
    }
   ],
   "source": [
    "np.array([[1.73, 1.68, 1.71, 1.89, 1.79],\n",
    "        [65.4, 59.2, 63.6, 88.4, '68.7']])"
   ]
  },
  {
   "cell_type": "code",
   "execution_count": 17,
   "metadata": {},
   "outputs": [
    {
     "name": "stdout",
     "output_type": "stream",
     "text": [
      "(3, 5)\n"
     ]
    }
   ],
   "source": [
    "numeros = np.array([[1, 2, 3, 4, 5],\n",
    "                   [6, 7, 8, 9, 10],\n",
    "                   [11, 12, 13, 14, 15]])\n",
    "print(numeros.shape)"
   ]
  },
  {
   "cell_type": "code",
   "execution_count": 20,
   "metadata": {},
   "outputs": [
    {
     "name": "stdout",
     "output_type": "stream",
     "text": [
      "(3, 3)\n"
     ]
    }
   ],
   "source": [
    "numeros2 = np.array ([[1, 2, 3],\n",
    "                      [4, 5, 6],\n",
    "                      [7, 8, 9]])\n",
    "print(numeros2.shape)"
   ]
  },
  {
   "cell_type": "code",
   "execution_count": 26,
   "metadata": {},
   "outputs": [
    {
     "name": "stdout",
     "output_type": "stream",
     "text": [
      "1.71\n",
      "[[ 1.68  1.71]\n",
      " [59.2  63.6 ]]\n",
      "[65.4 59.2 63.6 88.4 68.7]\n"
     ]
    }
   ],
   "source": [
    "print(np_2d[0, 2])\n",
    "print(np_2d[:, 1:3])\n",
    "print(np_2d[1, :])"
   ]
  },
  {
   "cell_type": "code",
   "execution_count": 45,
   "metadata": {},
   "outputs": [
    {
     "name": "stdout",
     "output_type": "stream",
     "text": [
      "<class 'numpy.ndarray'>\n",
      "(8,)\n"
     ]
    }
   ],
   "source": [
    "#create list baseball\n",
    "baseball = [180, 215, 210, 210, 188, 176, 209, 200]\n",
    "import numpy as np\n",
    "np_baseball = np.array(baseball)\n",
    "print(type(np_baseball))\n",
    "print(np_baseball.shape)"
   ]
  },
  {
   "cell_type": "code",
   "execution_count": 56,
   "metadata": {},
   "outputs": [
    {
     "name": "stdout",
     "output_type": "stream",
     "text": [
      "range(150, 210)\n",
      "range(50, 150)\n",
      "[169, 181, 164, 153, 193, 197, 162, 158, 177, 165, 186, 160, 150, 190, 202, 184, 188, 208, 168, 163]\n",
      "[60, 94, 87, 58, 135, 65, 108, 149, 128, 61, 127, 84, 93, 54, 109, 134, 81, 126, 138, 130]\n",
      "[1.69 1.81 1.64 1.53 1.93 1.97 1.62 1.58 1.77 1.65 1.86 1.6  1.5  1.9\n",
      " 2.02 1.84 1.88 2.08 1.68 1.63]\n",
      "[ 60  94  87  58 135  65 108 149 128  61 127  84  93  54 109 134  81 126\n",
      " 138 130]\n",
      "[21.0076678  28.69265285 32.34681737 24.77679525 36.24258369 16.74869231\n",
      " 41.15226337 59.68594776 40.85671423 22.40587695 36.70944618 32.8125\n",
      " 41.33333333 14.95844875 26.71306735 39.57939509 22.91760978 29.12352071\n",
      " 48.89455782 48.92920321]\n",
      "[False False False False False  True False False False False False False\n",
      " False  True False False False False False False]\n",
      "[16.74869231 14.95844875]\n",
      "[128  61 127  84  93  54 109 134]\n",
      "[1.6  1.5  1.9  2.02 1.84 1.88 2.08 1.68 1.63]\n"
     ]
    }
   ],
   "source": [
    "import random as rd\n",
    "import numpy as np\n",
    "# geração de números entre 150 e 209\n",
    "height = range(150 , 210)\n",
    "print(height)\n",
    "#geração de números entre 50 e 149\n",
    "weight = range(50, 150)\n",
    "print(weight)\n",
    "#amostra randomica de 20 números de height\n",
    "height = rd.sample(height,20)\n",
    "print(height)\n",
    "#amostra randomica de 20 numeros de weight\n",
    "weight = rd.sample(weight,20)\n",
    "print(weight)\n",
    "#converter height em array e normalizar multiplicador por 0.01\n",
    "height_array = np.array(height) * 0.01\n",
    "print(height_array)\n",
    "#converter weight em array\n",
    "weight_array = np.array(weight)\n",
    "print(weight_array)\n",
    "#calculo do bmi\n",
    "bmi = weight_array/ height_array ** 2\n",
    "print(bmi)\n",
    "#verificação onde bmi é menor que 21\n",
    "light = bmi<21\n",
    "print(light)\n",
    "print(bmi[bmi < 21])\n",
    "print(weight_array[8:16])\n",
    "print(height_array[11:20])\n",
    "\n"
   ]
  },
  {
   "cell_type": "code",
   "execution_count": 65,
   "metadata": {},
   "outputs": [
    {
     "name": "stdout",
     "output_type": "stream",
     "text": [
      "[210.   98.5]\n",
      "[ 78.4 102.   98.5  75.2]\n",
      "215.0\n",
      "198.25\n",
      "158.5\n"
     ]
    }
   ],
   "source": [
    "#\n",
    "baseball = [[180, 78.4],\n",
    "            [215, 102],\n",
    "            [210, 98.5],\n",
    "            [188, 75.2]]\n",
    "#\n",
    "import numpy as np\n",
    "#\n",
    "np_baseball = np.array(baseball)\n",
    "#\n",
    "print(np_baseball[2])\n",
    "np_weight_lb = np_baseball[:, 1]\n",
    "print(np_weight_lb)\n",
    "print(np_baseball[1, 0])\n",
    "#\n",
    "media = np.mean(np_baseball[:, 0])\n",
    "print(media)\n",
    "mediana = np.median(np_baseball[1, :])\n",
    "print(mediana)"
   ]
  }
 ],
 "metadata": {
  "kernelspec": {
   "display_name": "Python 3",
   "language": "python",
   "name": "python3"
  },
  "language_info": {
   "codemirror_mode": {
    "name": "ipython",
    "version": 3
   },
   "file_extension": ".py",
   "mimetype": "text/x-python",
   "name": "python",
   "nbconvert_exporter": "python",
   "pygments_lexer": "ipython3",
   "version": "3.11.0"
  },
  "orig_nbformat": 4
 },
 "nbformat": 4,
 "nbformat_minor": 2
}
